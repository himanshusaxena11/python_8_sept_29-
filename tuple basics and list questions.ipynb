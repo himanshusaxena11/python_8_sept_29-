{
 "cells": [
  {
   "cell_type": "code",
   "execution_count": 1,
   "id": "ac60ac34",
   "metadata": {},
   "outputs": [
    {
     "data": {
      "text/plain": [
       "tuple"
      ]
     },
     "execution_count": 1,
     "metadata": {},
     "output_type": "execute_result"
    }
   ],
   "source": [
    "a=(8-4,84,-78,84,43)\n",
    "type(a)"
   ]
  },
  {
   "cell_type": "code",
   "execution_count": 2,
   "id": "11d413cf",
   "metadata": {},
   "outputs": [
    {
     "data": {
      "text/plain": [
       "84"
      ]
     },
     "execution_count": 2,
     "metadata": {},
     "output_type": "execute_result"
    }
   ],
   "source": [
    "a[-2]"
   ]
  },
  {
   "cell_type": "code",
   "execution_count": 3,
   "id": "354024a9",
   "metadata": {},
   "outputs": [],
   "source": [
    "x=(63,'hibdj',-28,'hd',82)"
   ]
  },
  {
   "cell_type": "code",
   "execution_count": 4,
   "id": "e0f49493",
   "metadata": {},
   "outputs": [
    {
     "data": {
      "text/plain": [
       "2"
      ]
     },
     "execution_count": 4,
     "metadata": {},
     "output_type": "execute_result"
    }
   ],
   "source": [
    "x.index(-28)"
   ]
  },
  {
   "cell_type": "code",
   "execution_count": 5,
   "id": "a0c4673b",
   "metadata": {},
   "outputs": [],
   "source": [
    "t=(73,92,1,-72,'false',83,3,'hello',0,29.2,'heya',False,True)"
   ]
  },
  {
   "cell_type": "code",
   "execution_count": 6,
   "id": "e4aa9e6a",
   "metadata": {},
   "outputs": [
    {
     "data": {
      "text/plain": [
       "2"
      ]
     },
     "execution_count": 6,
     "metadata": {},
     "output_type": "execute_result"
    }
   ],
   "source": [
    "t.count(0)"
   ]
  },
  {
   "cell_type": "code",
   "execution_count": 7,
   "id": "04dcd55a",
   "metadata": {},
   "outputs": [],
   "source": [
    "#empty tuple\n",
    "x=()"
   ]
  },
  {
   "cell_type": "code",
   "execution_count": 8,
   "id": "2c317a21",
   "metadata": {},
   "outputs": [
    {
     "data": {
      "text/plain": [
       "tuple"
      ]
     },
     "execution_count": 8,
     "metadata": {},
     "output_type": "execute_result"
    }
   ],
   "source": [
    "type(x)"
   ]
  },
  {
   "cell_type": "code",
   "execution_count": 9,
   "id": "12ff850e",
   "metadata": {},
   "outputs": [],
   "source": [
    "y=(67,)"
   ]
  },
  {
   "cell_type": "code",
   "execution_count": 10,
   "id": "81f77721",
   "metadata": {},
   "outputs": [
    {
     "data": {
      "text/plain": [
       "tuple"
      ]
     },
     "execution_count": 10,
     "metadata": {},
     "output_type": "execute_result"
    }
   ],
   "source": [
    "type(y)"
   ]
  },
  {
   "cell_type": "code",
   "execution_count": 11,
   "id": "5262ddd2",
   "metadata": {},
   "outputs": [
    {
     "name": "stdout",
     "output_type": "stream",
     "text": [
      "before>>>> [6, 'hello', 7, 34, -78, 'ram']\n",
      "after>>>> [6, 'hello', 7, 34, -78, 'ram', 93]\n",
      "(6, 'hello', 7, 34, -78, 'ram', 93)\n"
     ]
    },
    {
     "data": {
      "text/plain": [
       "tuple"
      ]
     },
     "execution_count": 11,
     "metadata": {},
     "output_type": "execute_result"
    }
   ],
   "source": [
    "#wap to add data in tuple\n",
    "a=(6,'hello',7,34,-78,'ram')\n",
    "b=list(a)\n",
    "print('before>>>>',b)\n",
    "b.append(93)\n",
    "print('after>>>>',b)\n",
    "c=tuple(b)\n",
    "print(c)\n",
    "type(c)"
   ]
  },
  {
   "cell_type": "code",
   "execution_count": 12,
   "id": "cb94f68c",
   "metadata": {},
   "outputs": [
    {
     "name": "stdout",
     "output_type": "stream",
     "text": [
      "before>> [6, 'hello', 7, 34, -78, 'ram']\n",
      "after>>> [6, 'hello', 7, -78, 'ram']\n",
      "(6, 'hello', 7, -78, 'ram')\n"
     ]
    },
    {
     "data": {
      "text/plain": [
       "tuple"
      ]
     },
     "execution_count": 12,
     "metadata": {},
     "output_type": "execute_result"
    }
   ],
   "source": [
    "#wap to delete data in tuple\n",
    "a=(6,'hello',7,34,-78,'ram')\n",
    "b=list(a)\n",
    "print('before>>',b)\n",
    "b.remove(34)\n",
    "print('after>>>',b)\n",
    "d=tuple(b)\n",
    "print(d)\n",
    "type(d)"
   ]
  },
  {
   "cell_type": "code",
   "execution_count": 13,
   "id": "24ac2907",
   "metadata": {},
   "outputs": [
    {
     "data": {
      "text/plain": [
       "[83, 34.3, 90, -2, 5, 8]"
      ]
     },
     "execution_count": 13,
     "metadata": {},
     "output_type": "execute_result"
    }
   ],
   "source": [
    "#wap to add more than one data in list >>>>METHOD 1>>>>>>\n",
    "x=[83,34.3,90,-2]\n",
    "y=[5,8]\n",
    "z=x+y\n",
    "z"
   ]
  },
  {
   "cell_type": "code",
   "execution_count": 17,
   "id": "feda20ef",
   "metadata": {},
   "outputs": [
    {
     "data": {
      "text/plain": [
       "[4, 8, 2, -95, 'hi there', 'heya', 'fiji', 23, 61]"
      ]
     },
     "execution_count": 17,
     "metadata": {},
     "output_type": "execute_result"
    }
   ],
   "source": [
    "#wap to add more than one data in list >>>>METHOD 2>>>>>>\n",
    "x=[4,8,2,-95,'hi there','heya']\n",
    "x.extend(['fiji',23,61])\n",
    "x"
   ]
  },
  {
   "cell_type": "code",
   "execution_count": 19,
   "id": "a45f2a25",
   "metadata": {},
   "outputs": [
    {
     "name": "stdout",
     "output_type": "stream",
     "text": [
      "[23, 78, 32, 'hi', 'hello world', 77, 90, 'tata']\n"
     ]
    }
   ],
   "source": [
    "#wap to add more than one data in list >>>>METHOD 3>>>>>>\n",
    "x=[23,78,32,'hi','hello world']\n",
    "y=[77,90,'tata']\n",
    "for i in y:\n",
    "    x.append(i)\n",
    "print(x)"
   ]
  },
  {
   "cell_type": "code",
   "execution_count": null,
   "id": "dc87beb2",
   "metadata": {},
   "outputs": [],
   "source": []
  }
 ],
 "metadata": {
  "kernelspec": {
   "display_name": "Python 3 (ipykernel)",
   "language": "python",
   "name": "python3"
  },
  "language_info": {
   "codemirror_mode": {
    "name": "ipython",
    "version": 3
   },
   "file_extension": ".py",
   "mimetype": "text/x-python",
   "name": "python",
   "nbconvert_exporter": "python",
   "pygments_lexer": "ipython3",
   "version": "3.9.12"
  }
 },
 "nbformat": 4,
 "nbformat_minor": 5
}
